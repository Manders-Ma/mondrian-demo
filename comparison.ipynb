{
 "cells": [
  {
   "cell_type": "markdown",
   "metadata": {},
   "source": [
    "### Importing the library"
   ]
  },
  {
   "cell_type": "code",
   "execution_count": 76,
   "metadata": {},
   "outputs": [],
   "source": [
    "import pandas as pd"
   ]
  },
  {
   "attachments": {},
   "cell_type": "markdown",
   "metadata": {},
   "source": [
    "### 先設定original_table以及released_table的路徑"
   ]
  },
  {
   "cell_type": "code",
   "execution_count": 77,
   "metadata": {},
   "outputs": [],
   "source": [
    "original_table_path = \"abalone.data\"\n",
    "released_table_path = \"k-anonmity+L-Diversity+T-closeness_abalone_data.csv\""
   ]
  },
  {
   "attachments": {},
   "cell_type": "markdown",
   "metadata": {},
   "source": [
    "### Importing and Preprocessing dataset"
   ]
  },
  {
   "cell_type": "code",
   "execution_count": 78,
   "metadata": {},
   "outputs": [],
   "source": [
    "names = (\n",
    "    \"Sex\",\n",
    "    \"Length\",\n",
    "    \"Diameter\",\n",
    "    \"Height\",\n",
    "    \"Whole-weight\",\n",
    "    \"Shucked-weight\",\n",
    "    \"Viscera-weight\",\n",
    "    \"Shell-weight\",\n",
    "    \"Rings\"\n",
    ")\n",
    "original_table = pd.read_csv(original_table_path, header=None, names=names)\n",
    "released_table = pd.read_csv(released_table_path, header=0, names=names)"
   ]
  },
  {
   "cell_type": "code",
   "execution_count": 79,
   "metadata": {},
   "outputs": [
    {
     "data": {
      "text/html": [
       "<div>\n",
       "<style scoped>\n",
       "    .dataframe tbody tr th:only-of-type {\n",
       "        vertical-align: middle;\n",
       "    }\n",
       "\n",
       "    .dataframe tbody tr th {\n",
       "        vertical-align: top;\n",
       "    }\n",
       "\n",
       "    .dataframe thead th {\n",
       "        text-align: right;\n",
       "    }\n",
       "</style>\n",
       "<table border=\"1\" class=\"dataframe\">\n",
       "  <thead>\n",
       "    <tr style=\"text-align: right;\">\n",
       "      <th></th>\n",
       "      <th>Sex</th>\n",
       "      <th>Length</th>\n",
       "      <th>Diameter</th>\n",
       "      <th>Height</th>\n",
       "      <th>Whole-weight</th>\n",
       "      <th>Shucked-weight</th>\n",
       "      <th>Viscera-weight</th>\n",
       "      <th>Shell-weight</th>\n",
       "      <th>Rings</th>\n",
       "    </tr>\n",
       "  </thead>\n",
       "  <tbody>\n",
       "    <tr>\n",
       "      <th>0</th>\n",
       "      <td>M</td>\n",
       "      <td>0.455</td>\n",
       "      <td>0.365</td>\n",
       "      <td>0.095</td>\n",
       "      <td>0.5140</td>\n",
       "      <td>0.2245</td>\n",
       "      <td>0.1010</td>\n",
       "      <td>0.150</td>\n",
       "      <td>15</td>\n",
       "    </tr>\n",
       "    <tr>\n",
       "      <th>1</th>\n",
       "      <td>M</td>\n",
       "      <td>0.350</td>\n",
       "      <td>0.265</td>\n",
       "      <td>0.090</td>\n",
       "      <td>0.2255</td>\n",
       "      <td>0.0995</td>\n",
       "      <td>0.0485</td>\n",
       "      <td>0.070</td>\n",
       "      <td>7</td>\n",
       "    </tr>\n",
       "    <tr>\n",
       "      <th>2</th>\n",
       "      <td>F</td>\n",
       "      <td>0.530</td>\n",
       "      <td>0.420</td>\n",
       "      <td>0.135</td>\n",
       "      <td>0.6770</td>\n",
       "      <td>0.2565</td>\n",
       "      <td>0.1415</td>\n",
       "      <td>0.210</td>\n",
       "      <td>9</td>\n",
       "    </tr>\n",
       "    <tr>\n",
       "      <th>3</th>\n",
       "      <td>M</td>\n",
       "      <td>0.440</td>\n",
       "      <td>0.365</td>\n",
       "      <td>0.125</td>\n",
       "      <td>0.5160</td>\n",
       "      <td>0.2155</td>\n",
       "      <td>0.1140</td>\n",
       "      <td>0.155</td>\n",
       "      <td>10</td>\n",
       "    </tr>\n",
       "    <tr>\n",
       "      <th>4</th>\n",
       "      <td>I</td>\n",
       "      <td>0.330</td>\n",
       "      <td>0.255</td>\n",
       "      <td>0.080</td>\n",
       "      <td>0.2050</td>\n",
       "      <td>0.0895</td>\n",
       "      <td>0.0395</td>\n",
       "      <td>0.055</td>\n",
       "      <td>7</td>\n",
       "    </tr>\n",
       "  </tbody>\n",
       "</table>\n",
       "</div>"
      ],
      "text/plain": [
       "  Sex  Length  Diameter  Height  Whole-weight  Shucked-weight  Viscera-weight  \\\n",
       "0   M   0.455     0.365   0.095        0.5140          0.2245          0.1010   \n",
       "1   M   0.350     0.265   0.090        0.2255          0.0995          0.0485   \n",
       "2   F   0.530     0.420   0.135        0.6770          0.2565          0.1415   \n",
       "3   M   0.440     0.365   0.125        0.5160          0.2155          0.1140   \n",
       "4   I   0.330     0.255   0.080        0.2050          0.0895          0.0395   \n",
       "\n",
       "   Shell-weight  Rings  \n",
       "0         0.150     15  \n",
       "1         0.070      7  \n",
       "2         0.210      9  \n",
       "3         0.155     10  \n",
       "4         0.055      7  "
      ]
     },
     "execution_count": 79,
     "metadata": {},
     "output_type": "execute_result"
    }
   ],
   "source": [
    "original_table.head()"
   ]
  },
  {
   "cell_type": "code",
   "execution_count": 80,
   "metadata": {},
   "outputs": [
    {
     "data": {
      "text/html": [
       "<div>\n",
       "<style scoped>\n",
       "    .dataframe tbody tr th:only-of-type {\n",
       "        vertical-align: middle;\n",
       "    }\n",
       "\n",
       "    .dataframe tbody tr th {\n",
       "        vertical-align: top;\n",
       "    }\n",
       "\n",
       "    .dataframe thead th {\n",
       "        text-align: right;\n",
       "    }\n",
       "</style>\n",
       "<table border=\"1\" class=\"dataframe\">\n",
       "  <thead>\n",
       "    <tr style=\"text-align: right;\">\n",
       "      <th></th>\n",
       "      <th>Sex</th>\n",
       "      <th>Length</th>\n",
       "      <th>Diameter</th>\n",
       "      <th>Height</th>\n",
       "      <th>Whole-weight</th>\n",
       "      <th>Shucked-weight</th>\n",
       "      <th>Viscera-weight</th>\n",
       "      <th>Shell-weight</th>\n",
       "      <th>Rings</th>\n",
       "    </tr>\n",
       "  </thead>\n",
       "  <tbody>\n",
       "    <tr>\n",
       "      <th>0</th>\n",
       "      <td>I</td>\n",
       "      <td>[0.075~0.155]</td>\n",
       "      <td>[0.055~0.13]</td>\n",
       "      <td>[0.01~0.05]</td>\n",
       "      <td>[0.002~0.029]</td>\n",
       "      <td>[0.001~0.0125]</td>\n",
       "      <td>[0.0005~0.0065]</td>\n",
       "      <td>[0.0015~0.008]</td>\n",
       "      <td>0</td>\n",
       "    </tr>\n",
       "    <tr>\n",
       "      <th>1</th>\n",
       "      <td>I</td>\n",
       "      <td>[0.075~0.155]</td>\n",
       "      <td>[0.055~0.13]</td>\n",
       "      <td>[0.01~0.05]</td>\n",
       "      <td>[0.002~0.029]</td>\n",
       "      <td>[0.001~0.0125]</td>\n",
       "      <td>[0.0005~0.0065]</td>\n",
       "      <td>[0.0015~0.008]</td>\n",
       "      <td>0</td>\n",
       "    </tr>\n",
       "    <tr>\n",
       "      <th>2</th>\n",
       "      <td>I</td>\n",
       "      <td>[0.075~0.155]</td>\n",
       "      <td>[0.055~0.13]</td>\n",
       "      <td>[0.01~0.05]</td>\n",
       "      <td>[0.002~0.029]</td>\n",
       "      <td>[0.001~0.0125]</td>\n",
       "      <td>[0.0005~0.0065]</td>\n",
       "      <td>[0.0015~0.008]</td>\n",
       "      <td>0</td>\n",
       "    </tr>\n",
       "    <tr>\n",
       "      <th>3</th>\n",
       "      <td>M</td>\n",
       "      <td>[0.075~0.155]</td>\n",
       "      <td>[0.055~0.13]</td>\n",
       "      <td>[0.01~0.05]</td>\n",
       "      <td>[0.002~0.029]</td>\n",
       "      <td>[0.001~0.0125]</td>\n",
       "      <td>[0.0005~0.0065]</td>\n",
       "      <td>[0.0015~0.008]</td>\n",
       "      <td>0</td>\n",
       "    </tr>\n",
       "    <tr>\n",
       "      <th>4</th>\n",
       "      <td>I</td>\n",
       "      <td>[0.075~0.155]</td>\n",
       "      <td>[0.055~0.13]</td>\n",
       "      <td>[0.01~0.05]</td>\n",
       "      <td>[0.002~0.029]</td>\n",
       "      <td>[0.001~0.0125]</td>\n",
       "      <td>[0.0005~0.0065]</td>\n",
       "      <td>[0.0015~0.008]</td>\n",
       "      <td>0</td>\n",
       "    </tr>\n",
       "  </tbody>\n",
       "</table>\n",
       "</div>"
      ],
      "text/plain": [
       "  Sex         Length      Diameter       Height   Whole-weight  \\\n",
       "0   I  [0.075~0.155]  [0.055~0.13]  [0.01~0.05]  [0.002~0.029]   \n",
       "1   I  [0.075~0.155]  [0.055~0.13]  [0.01~0.05]  [0.002~0.029]   \n",
       "2   I  [0.075~0.155]  [0.055~0.13]  [0.01~0.05]  [0.002~0.029]   \n",
       "3   M  [0.075~0.155]  [0.055~0.13]  [0.01~0.05]  [0.002~0.029]   \n",
       "4   I  [0.075~0.155]  [0.055~0.13]  [0.01~0.05]  [0.002~0.029]   \n",
       "\n",
       "   Shucked-weight   Viscera-weight    Shell-weight  Rings  \n",
       "0  [0.001~0.0125]  [0.0005~0.0065]  [0.0015~0.008]      0  \n",
       "1  [0.001~0.0125]  [0.0005~0.0065]  [0.0015~0.008]      0  \n",
       "2  [0.001~0.0125]  [0.0005~0.0065]  [0.0015~0.008]      0  \n",
       "3  [0.001~0.0125]  [0.0005~0.0065]  [0.0015~0.008]      0  \n",
       "4  [0.001~0.0125]  [0.0005~0.0065]  [0.0015~0.008]      0  "
      ]
     },
     "execution_count": 80,
     "metadata": {},
     "output_type": "execute_result"
    }
   ],
   "source": [
    "released_table.head()"
   ]
  },
  {
   "cell_type": "code",
   "execution_count": 81,
   "metadata": {},
   "outputs": [],
   "source": [
    "def reScale(rings):\n",
    "    if rings<=5:\n",
    "        return 0\n",
    "    elif rings<=10:\n",
    "        return 1\n",
    "    elif rings<=15:\n",
    "        return 2\n",
    "    elif rings<=20:\n",
    "        return 3\n",
    "    elif rings<=25:\n",
    "        return 4\n",
    "    elif rings<=30:\n",
    "        return 5\n",
    "    else:\n",
    "        return None\n",
    "original_table.iloc[:,-1] = original_table.iloc[:,-1].apply(reScale)"
   ]
  },
  {
   "cell_type": "code",
   "execution_count": 82,
   "metadata": {},
   "outputs": [],
   "source": [
    "from sklearn.preprocessing import StandardScaler, RobustScaler\n",
    "\n",
    "\n",
    "def encoder_and_scaler(table):\n",
    "   table_x = table.iloc[:,:-1]\n",
    "   table_y = table.iloc[:,-1].values\n",
    "   table_x = pd.get_dummies(table_x)\n",
    "   sc = StandardScaler()\n",
    "   table_x = sc.fit_transform(table_x.values)\n",
    "   return table_x, table_y\n",
    "\n",
    "original_x, original_y = encoder_and_scaler(original_table)\n",
    "released_x, released_y = encoder_and_scaler(released_table)"
   ]
  },
  {
   "attachments": {},
   "cell_type": "markdown",
   "metadata": {},
   "source": [
    "### Training"
   ]
  },
  {
   "cell_type": "code",
   "execution_count": 83,
   "metadata": {},
   "outputs": [],
   "source": [
    "from sklearn.model_selection import train_test_split\n",
    "from sklearn.metrics import accuracy_score, recall_score, f1_score\n",
    "# Import models from sklearn\n",
    "from sklearn.svm import SVC\n",
    "from xgboost import XGBClassifier\n",
    "\n",
    "def print_metrics(y_true, preds):\n",
    "   print('Accuracy score: ', format(accuracy_score(y_true, preds)))\n",
    "\n",
    "def train_and_predict(X,y):\n",
    "   X_train, X_test, y_train, y_test = train_test_split(X, y, test_size=0.25, random_state=5)\n",
    "   # Instantiate a number of our models\n",
    "   svm_mod = SVC()\n",
    "   xg1 = XGBClassifier(verbosity = 0, use_label_encoder=False)\n",
    "\n",
    "   # Fit each of the 4 models\n",
    "   svm_mod.fit(X_train, y_train)\n",
    "   xg1=xg1.fit(X_train, y_train)\n",
    "\n",
    "   svm_y_pred = svm_mod.predict(X_test)\n",
    "   xg1_y_pred = xg1.predict(X_test)\n",
    "\n",
    "   # Print scores\n",
    "   print_metrics(y_test, svm_y_pred)\n",
    "   print_metrics(y_test, xg1_y_pred)\n",
    "   print(\"====================================\")"
   ]
  },
  {
   "cell_type": "code",
   "execution_count": 84,
   "metadata": {},
   "outputs": [
    {
     "name": "stdout",
     "output_type": "stream",
     "text": [
      "Accuracy score:  0.7119617224880382\n",
      "Accuracy score:  0.6813397129186602\n",
      "====================================\n",
      "Accuracy score:  0.6775119617224881\n",
      "Accuracy score:  0.6641148325358852\n",
      "====================================\n"
     ]
    }
   ],
   "source": [
    "train_and_predict(original_x, original_y)\n",
    "train_and_predict(released_x, released_y)"
   ]
  }
 ],
 "metadata": {
  "kernelspec": {
   "display_name": "base",
   "language": "python",
   "name": "python3"
  },
  "language_info": {
   "codemirror_mode": {
    "name": "ipython",
    "version": 3
   },
   "file_extension": ".py",
   "mimetype": "text/x-python",
   "name": "python",
   "nbconvert_exporter": "python",
   "pygments_lexer": "ipython3",
   "version": "3.8.8"
  },
  "orig_nbformat": 4,
  "vscode": {
   "interpreter": {
    "hash": "84d884b480cd48d50014c22e85d2133bcbf491048a6850d0696b03bb495b021c"
   }
  }
 },
 "nbformat": 4,
 "nbformat_minor": 2
}
